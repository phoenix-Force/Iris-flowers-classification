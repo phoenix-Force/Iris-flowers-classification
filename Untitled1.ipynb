{
 "cells": [
  {
   "cell_type": "code",
   "execution_count": 13,
   "metadata": {},
   "outputs": [
    {
     "ename": "AttributeError",
     "evalue": "'tuple' object has no attribute 'append'",
     "output_type": "error",
     "traceback": [
      "\u001b[1;31m---------------------------------------------------------------------------\u001b[0m",
      "\u001b[1;31mAttributeError\u001b[0m                            Traceback (most recent call last)",
      "\u001b[1;32m<ipython-input-13-29ed014bd6b9>\u001b[0m in \u001b[0;36m<module>\u001b[1;34m()\u001b[0m\n\u001b[0;32m     22\u001b[0m \u001b[1;33m\u001b[0m\u001b[0m\n\u001b[0;32m     23\u001b[0m \u001b[1;32mfor\u001b[0m \u001b[0mval\u001b[0m \u001b[1;32min\u001b[0m \u001b[0mrange\u001b[0m\u001b[1;33m(\u001b[0m\u001b[1;36m0\u001b[0m\u001b[1;33m,\u001b[0m\u001b[1;36m50\u001b[0m\u001b[1;33m)\u001b[0m\u001b[1;33m:\u001b[0m\u001b[1;33m\u001b[0m\u001b[0m\n\u001b[1;32m---> 24\u001b[1;33m     \u001b[0mfdataset\u001b[0m\u001b[1;33m.\u001b[0m\u001b[0mappend\u001b[0m\u001b[1;33m(\u001b[0m\u001b[0mfile\u001b[0m\u001b[1;33m[\u001b[0m\u001b[0mcl1\u001b[0m\u001b[1;33m]\u001b[0m\u001b[1;33m)\u001b[0m\u001b[1;33m\u001b[0m\u001b[0m\n\u001b[0m\u001b[0;32m     25\u001b[0m     \u001b[0mfdataset\u001b[0m\u001b[1;33m.\u001b[0m\u001b[0mappend\u001b[0m\u001b[1;33m(\u001b[0m\u001b[0mfile\u001b[0m\u001b[1;33m[\u001b[0m\u001b[0mcl2\u001b[0m\u001b[1;33m]\u001b[0m\u001b[1;33m)\u001b[0m\u001b[1;33m\u001b[0m\u001b[0m\n\u001b[0;32m     26\u001b[0m     \u001b[0mfdataset\u001b[0m\u001b[1;33m.\u001b[0m\u001b[0mappend\u001b[0m\u001b[1;33m(\u001b[0m\u001b[0mfile\u001b[0m\u001b[1;33m[\u001b[0m\u001b[0mcl3\u001b[0m\u001b[1;33m]\u001b[0m\u001b[1;33m)\u001b[0m\u001b[1;33m\u001b[0m\u001b[0m\n",
      "\u001b[1;31mAttributeError\u001b[0m: 'tuple' object has no attribute 'append'"
     ]
    }
   ],
   "source": [
    "from numpy import genfromtxt\n",
    "from sklearn import linear_model\n",
    "\n",
    "file=genfromtxt(\"Iris1.csv\",delimiter=\",\",dtype=\"str\")\n",
    "\n",
    "dic={}\n",
    "count=0\n",
    "for val in file:\n",
    "    if val[4] not in dic:\n",
    "        dic[val[4]]=count\n",
    "        count +=1\n",
    "        \n",
    "for val in file:\n",
    "    val[4]=dic[val[4]]\n",
    "    \n",
    "    \n",
    "    \n",
    "cl1=0\n",
    "cl2=50\n",
    "cl3=100\n",
    "fdataset=()\n",
    "\n",
    "for val in range(0,50):\n",
    "    fdataset.append(file[cl1])\n",
    "    fdataset.append(file[cl2])\n",
    "    fdataset.append(file[cl3])\n",
    "    cl1+=1\n",
    "    cl2+=1\n",
    "    cl3+=1\n",
    "    \n",
    "print(fdataset)\n",
    "\n",
    "traingset=file[:130]\n",
    "testingset=file[130:]\n",
    "\n",
    "\n",
    "trainx=traingset[:,[0,1,2,3]]\n",
    "trainx=trainx.astype(float)\n",
    "trainy=traingset[:,[4]]\n",
    "\n",
    "testx=testingset[:,[0,1,2,3]]\n",
    "testx=testx.astype(float)\n",
    "\n",
    "lr=linear_model.LogisticRegression()\n",
    "lr.fit(trainx,trainy)\n",
    "print(lr.predict([testx[15]]))\n",
    "print(lr.score(trainx,trainy))\n",
    "\n",
    "        "
   ]
  },
  {
   "cell_type": "code",
   "execution_count": null,
   "metadata": {},
   "outputs": [],
   "source": []
  }
 ],
 "metadata": {
  "kernelspec": {
   "display_name": "Python 3",
   "language": "python",
   "name": "python3"
  },
  "language_info": {
   "codemirror_mode": {
    "name": "ipython",
    "version": 3
   },
   "file_extension": ".py",
   "mimetype": "text/x-python",
   "name": "python",
   "nbconvert_exporter": "python",
   "pygments_lexer": "ipython3",
   "version": "3.6.5"
  }
 },
 "nbformat": 4,
 "nbformat_minor": 2
}
