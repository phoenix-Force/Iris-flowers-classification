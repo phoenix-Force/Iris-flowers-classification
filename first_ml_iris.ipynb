{
 "cells": [
  {
   "cell_type": "code",
   "execution_count": 1,
   "metadata": {},
   "outputs": [
    {
     "name": "stderr",
     "output_type": "stream",
     "text": [
      "C:\\Users\\parad\\Anaconda3\\lib\\site-packages\\sklearn\\utils\\validation.py:578: DataConversionWarning: A column-vector y was passed when a 1d array was expected. Please change the shape of y to (n_samples, ), for example using ravel().\n",
      "  y = column_or_1d(y, warn=True)\n"
     ]
    },
    {
     "name": "stdout",
     "output_type": "stream",
     "text": [
      "['2']\n",
      "94.61538461538461\n"
     ]
    }
   ],
   "source": [
    "import numpy as np\n",
    "from numpy import genfromtxt\n",
    "from sklearn import linear_model\n",
    "\n",
    "file=genfromtxt(\"Iris1.csv\",delimiter=\",\",dtype=\"str\")\n",
    "\n",
    "dic={}\n",
    "count=0\n",
    "for val in file:\n",
    "    if val[4] not in dic:\n",
    "        dic[val[4]]=count\n",
    "        count +=1\n",
    "        \n",
    "for val in file:\n",
    "    val[4]=dic[val[4]]\n",
    "    \n",
    "traingset=file[:130]\n",
    "testingset=file[130:]\n",
    "\n",
    "\n",
    "trainx=traingset[:,[0,1,2,3]]\n",
    "trainx=trainx.astype(float)\n",
    "trainy=traingset[:,[4]]\n",
    "\n",
    "testx=testingset[:,[0,1,2,3]]\n",
    "testx=testx.astype(float)\n",
    "\n",
    "lr=linear_model.LogisticRegression()\n",
    "lr.fit(trainx,trainy)\n",
    "print(lr.predict([testx[15]]))\n",
    "print(lr.score(trainx,trainy)*100)\n",
    "       \n"
   ]
  },
  {
   "cell_type": "code",
   "execution_count": null,
   "metadata": {},
   "outputs": [],
   "source": [
    "import matplotlib"
   ]
  },
  {
   "cell_type": "code",
   "execution_count": null,
   "metadata": {},
   "outputs": [],
   "source": []
  }
 ],
 "metadata": {
  "kernelspec": {
   "display_name": "Python 3",
   "language": "python",
   "name": "python3"
  },
  "language_info": {
   "codemirror_mode": {
    "name": "ipython",
    "version": 3
   },
   "file_extension": ".py",
   "mimetype": "text/x-python",
   "name": "python",
   "nbconvert_exporter": "python",
   "pygments_lexer": "ipython3",
   "version": "3.6.5"
  }
 },
 "nbformat": 4,
 "nbformat_minor": 2
}
